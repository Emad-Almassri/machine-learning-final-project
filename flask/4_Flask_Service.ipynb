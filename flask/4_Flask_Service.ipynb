{
 "cells": [
  {
   "cell_type": "code",
   "execution_count": 25,
   "metadata": {},
   "outputs": [],
   "source": [
    "from flask import Flask, request, jsonify\n",
    "import pandas as pd\n",
    "import pickle"
   ]
  },
  {
   "cell_type": "code",
   "execution_count": 26,
   "metadata": {},
   "outputs": [],
   "source": [
    "df = pd.read_csv('../csv/cleaned_data_car.csv')"
   ]
  },
  {
   "cell_type": "code",
   "execution_count": 29,
   "metadata": {},
   "outputs": [],
   "source": [
    "model_and_columns = pickle.load(open('../models/decision_tree_with_columns.sav', 'rb'))\n",
    "model = model_and_columns['model']\n",
    "columns = model_and_columns['columns']"
   ]
  },
  {
   "cell_type": "code",
   "execution_count": 34,
   "metadata": {},
   "outputs": [
    {
     "name": "stdout",
     "output_type": "stream",
     "text": [
      " * Serving Flask app '__main__'\n",
      " * Debug mode: off\n"
     ]
    },
    {
     "name": "stderr",
     "output_type": "stream",
     "text": [
      "WARNING: This is a development server. Do not use it in a production deployment. Use a production WSGI server instead.\n",
      " * Running on http://127.0.0.1:5000\n",
      "Press CTRL+C to quit\n",
      "127.0.0.1 - - [09/Dec/2023 17:14:20] \"POST /predict HTTP/1.1\" 200 -\n"
     ]
    }
   ],
   "source": [
    "app = Flask(__name__)\n",
    "\n",
    "@app.route('/predict', methods=['POST'])\n",
    "def predict():\n",
    "    try:\n",
    "        if request.headers['Content-Type'] == 'application/json':\n",
    "            data = request.get_json(force=True)\n",
    "\n",
    "            if 'features' in data and isinstance(data['features'], dict):\n",
    "                features_dict = data['features']\n",
    "                \n",
    "                non_zero_features = [features_dict.get(col, 0) for col in columns]\n",
    "                \n",
    "                features_df = pd.DataFrame([non_zero_features], columns=columns)\n",
    "                \n",
    "                prediction = model.predict(features_df)\n",
    "                \n",
    "                prediction = int(prediction[0])\n",
    "                \n",
    "                return jsonify({'prediction': prediction})\n",
    "            else:\n",
    "                return jsonify({'error': 'Invalid or missing \"features\" data in the request'}), 400\n",
    "        else:\n",
    "            return jsonify({'error': 'Invalid content type. Use application/json'}), 415\n",
    "    except Exception as e:\n",
    "        print(f\"An error occurred: {str(e)}\")\n",
    "        return jsonify({'error': f'An internal server error occurred: {str(e)}'}), 500\n",
    "\n",
    "\n",
    "\n",
    "if __name__ == '__main__':\n",
    "    app.run(port=5000)"
   ]
  }
 ],
 "metadata": {
  "kernelspec": {
   "display_name": "Python 3",
   "language": "python",
   "name": "python3"
  },
  "language_info": {
   "codemirror_mode": {
    "name": "ipython",
    "version": 3
   },
   "file_extension": ".py",
   "mimetype": "text/x-python",
   "name": "python",
   "nbconvert_exporter": "python",
   "pygments_lexer": "ipython3",
   "version": "3.10.11"
  }
 },
 "nbformat": 4,
 "nbformat_minor": 2
}
