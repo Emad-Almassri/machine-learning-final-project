{
 "cells": [
  {
   "cell_type": "markdown",
   "metadata": {},
   "source": [
    "Import needed Libraries"
   ]
  },
  {
   "cell_type": "code",
   "execution_count": 33,
   "metadata": {},
   "outputs": [],
   "source": [
    "import pandas as pd\n",
    "import numpy as np\n",
    "from sklearn.model_selection import train_test_split\n",
    "from sklearn.preprocessing import PolynomialFeatures\n",
    "from sklearn.linear_model import LinearRegression\n",
    "from sklearn.metrics import mean_squared_error\n",
    "from sklearn.neighbors import KNeighborsRegressor\n",
    "from sklearn.tree import DecisionTreeRegressor\n",
    "from sklearn.model_selection import cross_val_score\n",
    "from sklearn.pipeline import make_pipeline\n",
    "from sklearn.datasets import make_regression\n",
    "from sklearn.metrics import r2_score\n",
    "import pickle\n"
   ]
  },
  {
   "cell_type": "markdown",
   "metadata": {},
   "source": [
    "Create a `dataframe`"
   ]
  },
  {
   "cell_type": "code",
   "execution_count": 34,
   "metadata": {},
   "outputs": [],
   "source": [
    "df = pd.read_csv('../csv/cleaned_data_car.csv')\n"
   ]
  },
  {
   "cell_type": "markdown",
   "metadata": {},
   "source": [
    "***Polynomial Model***"
   ]
  },
  {
   "cell_type": "code",
   "execution_count": 35,
   "metadata": {},
   "outputs": [
    {
     "name": "stdout",
     "output_type": "stream",
     "text": [
      "Optimal polynomial degree: 1\n"
     ]
    }
   ],
   "source": [
    "X, y = make_regression(n_samples=100, n_features=1, noise=30, random_state=42)\n",
    "\n",
    "degrees = np.arange(1, 10)\n",
    "\n",
    "cv_scores = []\n",
    "for degree in degrees:\n",
    "    model = make_pipeline(PolynomialFeatures(degree), LinearRegression())\n",
    "    scores = cross_val_score(model, X, y, cv=5, scoring='neg_mean_squared_error')\n",
    "    cv_scores.append(-np.mean(scores))  # Convert to positive MSE\n",
    "\n",
    "optimal_degree = degrees[np.argmin(cv_scores)]\n",
    "print(\"Optimal polynomial degree:\", optimal_degree)"
   ]
  },
  {
   "cell_type": "code",
   "execution_count": 36,
   "metadata": {},
   "outputs": [
    {
     "name": "stdout",
     "output_type": "stream",
     "text": [
      "R-squared for training set: 0.8240533836277965\n",
      "R-squared for testing set: -14.589246506505818\n"
     ]
    }
   ],
   "source": [
    "X = df.drop('car_price', axis=1)\n",
    "y = df['car_price']\n",
    "\n",
    "X_train, X_test, y_train, y_test = train_test_split(X, y, test_size=0.2, random_state=42)\n",
    "\n",
    "poly = PolynomialFeatures(degree=optimal_degree)\n",
    "X_poly_train = poly.fit_transform(X_train)\n",
    "X_poly_test = poly.transform(X_test)\n",
    "\n",
    "poly_reg = LinearRegression()\n",
    "poly_reg.fit(X_poly_train, y_train)\n",
    "\n",
    "y_poly_pred_train = poly_reg.predict(X_poly_train)\n",
    "y_poly_pred_test = poly_reg.predict(X_poly_test)\n",
    "\n",
    "mse_poly_train = mean_squared_error(y_train, y_poly_pred_train)\n",
    "mse_poly_test = mean_squared_error(y_test, y_poly_pred_test)\n",
    "\n",
    "r2_train = r2_score(y_train, y_poly_pred_train)\n",
    "r2_test = r2_score(y_test, y_poly_pred_test)\n",
    "\n",
    "print(\"R-squared for training set:\", r2_train)\n",
    "print(\"R-squared for testing set:\", r2_test)"
   ]
  },
  {
   "cell_type": "markdown",
   "metadata": {},
   "source": [
    "***kNN Model***"
   ]
  },
  {
   "cell_type": "code",
   "execution_count": 37,
   "metadata": {},
   "outputs": [
    {
     "name": "stdout",
     "output_type": "stream",
     "text": [
      "Optimal k value: 3\n"
     ]
    }
   ],
   "source": [
    "k_values = list(range(1, 21, 2))\n",
    "\n",
    "cv_scores = []\n",
    "for k in k_values:\n",
    "    knn = KNeighborsRegressor(n_neighbors=k)\n",
    "    scores = cross_val_score(knn, X, y, cv=5, scoring='neg_mean_squared_error') \n",
    "    cv_scores.append(-scores.mean())  \n",
    "\n",
    "optimal_k = k_values[np.argmin(cv_scores)] \n",
    "print(\"Optimal k value:\", optimal_k)"
   ]
  },
  {
   "cell_type": "code",
   "execution_count": 38,
   "metadata": {},
   "outputs": [
    {
     "name": "stdout",
     "output_type": "stream",
     "text": [
      "R-squared for training set: 0.6695605764451381\n",
      "R-squared for testing set: 0.2923902969457144\n"
     ]
    }
   ],
   "source": [
    "knn_reg = KNeighborsRegressor(n_neighbors=optimal_k)\n",
    "knn_reg.fit(X_train, y_train)\n",
    "\n",
    "y_knn_pred_train = knn_reg.predict(X_train)\n",
    "y_knn_pred_test = knn_reg.predict(X_test)\n",
    "\n",
    "mse_knn_train = mean_squared_error(y_train, y_knn_pred_train)\n",
    "mse_knn_test = mean_squared_error(y_test, y_knn_pred_test)\n",
    "\n",
    "r2_train = r2_score(y_train, y_knn_pred_train)\n",
    "r2_test = r2_score(y_test, y_knn_pred_test)\n",
    "\n",
    "print(\"R-squared for training set:\", r2_train)\n",
    "print(\"R-squared for testing set:\", r2_test)"
   ]
  },
  {
   "cell_type": "markdown",
   "metadata": {},
   "source": [
    "***Decision Tree Model***"
   ]
  },
  {
   "cell_type": "code",
   "execution_count": 39,
   "metadata": {},
   "outputs": [
    {
     "name": "stdout",
     "output_type": "stream",
     "text": [
      "R-squared for training set: 0.8535561192338307\n",
      "R-squared for testing set: 0.6566421608757356\n"
     ]
    }
   ],
   "source": [
    "dt_reg = DecisionTreeRegressor(random_state=42,max_depth=10)\n",
    "dt_reg.fit(X_train, y_train)\n",
    "\n",
    "y_dt_pred_train = dt_reg.predict(X_train)\n",
    "y_dt_pred_test = dt_reg.predict(X_test)\n",
    "\n",
    "mse_dt_train = mean_squared_error(y_train, y_dt_pred_train)\n",
    "mse_dt_test = mean_squared_error(y_test, y_dt_pred_test)\n",
    "\n",
    "r2_train = r2_score(y_train, y_dt_pred_train)\n",
    "r2_test = r2_score(y_test, y_dt_pred_test)\n",
    "\n",
    "print(\"R-squared for training set:\", r2_train)\n",
    "print(\"R-squared for testing set:\", r2_test)"
   ]
  },
  {
   "cell_type": "code",
   "execution_count": 40,
   "metadata": {},
   "outputs": [
    {
     "name": "stdout",
     "output_type": "stream",
     "text": [
      "Polynomial Regression RMSE on Training Set: 13240.06171979727\n",
      "Polynomial Regression RMSE on Test Set: 120313.81068190443\n",
      "kNN RMSE on Training Set: 18144.519754946446\n",
      "kNN RMSE on Test Set: 25633.02197863929\n",
      "Decision Tree RMSE on Training Set: 12079.11634939182\n",
      "Decision Tree RMSE on Test Set: 17855.680393569648\n"
     ]
    }
   ],
   "source": [
    "rmse_poly_train = np.sqrt(mse_poly_train)\n",
    "rmse_poly_test = np.sqrt(mse_poly_test)\n",
    "print(f'Polynomial Regression RMSE on Training Set: {rmse_poly_train}')\n",
    "print(f'Polynomial Regression RMSE on Test Set: {rmse_poly_test}')\n",
    "\n",
    "rmse_knn_train = np.sqrt(mse_knn_train)\n",
    "rmse_knn_test = np.sqrt(mse_knn_test)\n",
    "print(f'kNN RMSE on Training Set: {rmse_knn_train}')\n",
    "print(f'kNN RMSE on Test Set: {rmse_knn_test}')\n",
    "\n",
    "\n",
    "rmse_dt_train = np.sqrt(mse_dt_train)\n",
    "rmse_dt_test = np.sqrt(mse_dt_test) \n",
    "print(f'Decision Tree RMSE on Training Set: {rmse_dt_train}')\n",
    "print(f'Decision Tree RMSE on Test Set: {rmse_dt_test}')"
   ]
  },
  {
   "cell_type": "code",
   "execution_count": 47,
   "metadata": {},
   "outputs": [],
   "source": [
    "model_and_columns = {'model': dt_reg, 'columns': X_train.columns}\n",
    "pickle.dump(model_and_columns, open('decision_tree_with_columns.sav', 'wb'))"
   ]
  }
 ],
 "metadata": {
  "kernelspec": {
   "display_name": "Python 3",
   "language": "python",
   "name": "python3"
  },
  "language_info": {
   "codemirror_mode": {
    "name": "ipython",
    "version": 3
   },
   "file_extension": ".py",
   "mimetype": "text/x-python",
   "name": "python",
   "nbconvert_exporter": "python",
   "pygments_lexer": "ipython3",
   "version": "3.10.11"
  }
 },
 "nbformat": 4,
 "nbformat_minor": 2
}
